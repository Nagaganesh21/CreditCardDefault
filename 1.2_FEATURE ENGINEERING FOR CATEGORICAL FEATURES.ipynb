{
 "cells": [
  {
   "cell_type": "markdown",
   "metadata": {},
   "source": [
    "- In this notebook we see which feature engineering technique works the best for our categorical data."
   ]
  },
  {
   "cell_type": "code",
   "execution_count": 1,
   "metadata": {},
   "outputs": [],
   "source": [
    "import numpy as np\n",
    "import pandas as pd\n",
    "from sklearn.ensemble import RandomForestClassifier\n",
    "from sklearn.metrics import roc_auc_score\n",
    "from sklearn.model_selection import train_test_split\n",
    "from imblearn.over_sampling import ADASYN \n",
    "import random\n",
    "from sklearn.preprocessing import MinMaxScaler\n",
    "import pickle\n",
    "import Data_Ingestion_And_Preprocessing as dip"
   ]
  },
  {
   "cell_type": "code",
   "execution_count": 2,
   "metadata": {},
   "outputs": [],
   "source": [
    "results=pd.DataFrame(columns=['categoric_method','train_score','test_score','difference'])"
   ]
  },
  {
   "cell_type": "code",
   "execution_count": 3,
   "metadata": {},
   "outputs": [],
   "source": [
    "def fit_rf_model(df_train,df_test,results,categoric_method):\n",
    "    \n",
    "    \n",
    "    X_train=df_train.drop(['default.payment.next.month'],axis=1)\n",
    "    X_test=df_test.drop(['default.payment.next.month'],axis=1)\n",
    "    \n",
    "    y_train=df_train['default.payment.next.month']\n",
    "    y_test=df_test['default.payment.next.month']\n",
    "    \n",
    "    rf=RandomForestClassifier(max_depth=6,random_state=0)\n",
    "    \n",
    "    rf=rf.fit(X_train,y_train)\n",
    "    \n",
    "    y_train_prob=rf.predict_proba(X_train)[:,1]\n",
    "    y_test_prob=rf.predict_proba(X_test)[:,1]\n",
    "    \n",
    "    train_score=roc_auc_score(y_train,y_train_prob)\n",
    "    test_score=roc_auc_score(y_test,y_test_prob)\n",
    "    \n",
    "    results=results.append({'categoric_method':categoric_method,'train_score':train_score,'test_score':test_score,'difference':train_score-test_score},ignore_index=True)\n",
    "     \n",
    "    return results\n",
    "    \n",
    "\n",
    "    "
   ]
  },
  {
   "cell_type": "code",
   "execution_count": 4,
   "metadata": {},
   "outputs": [],
   "source": [
    "# Class Imbalance handeled in Train\n",
    "\n",
    "df_train_d , df_test_d=dip.load_data_and_preprocess('credit_fraud.csv')"
   ]
  },
  {
   "cell_type": "code",
   "execution_count": 18,
   "metadata": {},
   "outputs": [
    {
     "data": {
      "text/html": [
       "<div>\n",
       "<style scoped>\n",
       "    .dataframe tbody tr th:only-of-type {\n",
       "        vertical-align: middle;\n",
       "    }\n",
       "\n",
       "    .dataframe tbody tr th {\n",
       "        vertical-align: top;\n",
       "    }\n",
       "\n",
       "    .dataframe thead th {\n",
       "        text-align: right;\n",
       "    }\n",
       "</style>\n",
       "<table border=\"1\" class=\"dataframe\">\n",
       "  <thead>\n",
       "    <tr style=\"text-align: right;\">\n",
       "      <th></th>\n",
       "      <th>categoric_method</th>\n",
       "      <th>train_score</th>\n",
       "      <th>test_score</th>\n",
       "      <th>difference</th>\n",
       "    </tr>\n",
       "  </thead>\n",
       "  <tbody>\n",
       "    <tr>\n",
       "      <th>0</th>\n",
       "      <td>None</td>\n",
       "      <td>0.798849</td>\n",
       "      <td>0.786854</td>\n",
       "      <td>0.011995</td>\n",
       "    </tr>\n",
       "  </tbody>\n",
       "</table>\n",
       "</div>"
      ],
      "text/plain": [
       "  categoric_method  train_score  test_score  difference\n",
       "0             None     0.798849    0.786854    0.011995"
      ]
     },
     "execution_count": 18,
     "metadata": {},
     "output_type": "execute_result"
    }
   ],
   "source": [
    "# Fitting a basic model without any FE \n",
    "\n",
    "results=fit_rf_model(df_train=df_train_d,df_test=df_test_d,results=results,categoric_method='None')\n",
    "results"
   ]
  },
  {
   "cell_type": "markdown",
   "metadata": {},
   "source": [
    "### CONVERTING TO CATEGORIC FEATURES "
   ]
  },
  {
   "cell_type": "code",
   "execution_count": 19,
   "metadata": {},
   "outputs": [],
   "source": [
    "df_train_d['MARRIAGE']=df_train_d['MARRIAGE'].replace({1:'married',2:'single',3:'others'})\n",
    "df_train_d['EDUCATION']=df_train_d['EDUCATION'].replace({1:'graduate school',2:'university',3:'high school',4:'others'})\n",
    "df_train_d['SEX']=df_train_d['SEX'].replace({1:'male', 2:'female'})"
   ]
  },
  {
   "cell_type": "code",
   "execution_count": 20,
   "metadata": {},
   "outputs": [],
   "source": [
    "df_train_d[['PAY_0','PAY_2','PAY_3','PAY_4','PAY_5','PAY_6']]=df_train_d[['PAY_0','PAY_2','PAY_3','PAY_4','PAY_5','PAY_6']].astype('category')"
   ]
  },
  {
   "cell_type": "code",
   "execution_count": 21,
   "metadata": {},
   "outputs": [],
   "source": [
    "df_train_d[['SEX','MARRIAGE','EDUCATION']]=df_train_d[['SEX','MARRIAGE','EDUCATION']].astype('category')"
   ]
  },
  {
   "cell_type": "code",
   "execution_count": 22,
   "metadata": {},
   "outputs": [],
   "source": [
    "df_test_d['MARRIAGE']=df_test_d['MARRIAGE'].replace({1:'married',2:'single',3:'others'})\n",
    "df_test_d['EDUCATION']=df_test_d['EDUCATION'].replace({1:'graduate school',2:'university',3:'high school',4:'others'})\n",
    "df_test_d['SEX']=df_test_d['SEX'].replace({1:'male', 2:'female'})"
   ]
  },
  {
   "cell_type": "code",
   "execution_count": 23,
   "metadata": {},
   "outputs": [],
   "source": [
    "df_test_d[['PAY_0','PAY_2','PAY_3','PAY_4','PAY_5','PAY_6']]=df_test_d[['PAY_0','PAY_2','PAY_3','PAY_4','PAY_5','PAY_6']].astype('category')"
   ]
  },
  {
   "cell_type": "code",
   "execution_count": 24,
   "metadata": {},
   "outputs": [],
   "source": [
    "df_test_d[['SEX','MARRIAGE','EDUCATION']]=df_test_d[['SEX','MARRIAGE','EDUCATION']].astype('category')"
   ]
  },
  {
   "cell_type": "code",
   "execution_count": 25,
   "metadata": {},
   "outputs": [],
   "source": [
    "# This will be needed in deployment#\n",
    "\n",
    "categoric_columns=df_train_d.select_dtypes('category').columns\n",
    "target_categoric_encoder={}\n",
    "\n",
    "for col in categoric_columns:\n",
    "    \n",
    "    replace_dict=df_train_d.groupby([col])['default.payment.next.month'].mean().to_dict()\n",
    "    target_categoric_encoder[col]=replace_dict"
   ]
  },
  {
   "cell_type": "code",
   "execution_count": 26,
   "metadata": {},
   "outputs": [],
   "source": [
    "pickle.dump(target_categoric_encoder,open(\"target_encoder_dict.pickle\",\"wb\"))"
   ]
  },
  {
   "cell_type": "code",
   "execution_count": 27,
   "metadata": {},
   "outputs": [],
   "source": [
    "def handle_categoric_column(method,df_train,df_test):\n",
    "    \n",
    "    categoric_columns=df_train_d.select_dtypes('category').columns\n",
    "\n",
    "    if method=='count':\n",
    "        for col in categoric_columns:\n",
    "            replace_dict=df_train[col].value_counts().to_dict()\n",
    "\n",
    "            df_train[col]=df_train[col].replace(replace_dict)\n",
    "            df_test[col]=df_test[col].replace(replace_dict)\n",
    "            \n",
    "    elif method=='target_mean_encoding':\n",
    "        \n",
    "        for col in categoric_columns:\n",
    "            replace_dict=df_train.groupby([col])['default.payment.next.month'].mean().to_dict()\n",
    "\n",
    "            df_train[col]=df_train[col].replace(replace_dict)\n",
    "            df_test[col]=df_test[col].replace(replace_dict)\n",
    "     \n",
    "    elif method=='one_hot_encoding':\n",
    "        \n",
    "        \n",
    "\n",
    "        df_train['role']=['train']*len(df_train)\n",
    "        df_test['role']=['test']*len(df_test)\n",
    "        df=df_train.append([df_test],ignore_index=True)\n",
    "        df[['PAY_0','PAY_2','PAY_3','PAY_4','PAY_5','PAY_6']]=df[['PAY_0','PAY_2','PAY_3','PAY_4','PAY_5','PAY_6']].astype(int)\n",
    "        df[['PAY_0','PAY_2','PAY_3','PAY_4','PAY_5','PAY_6']]=df[['PAY_0','PAY_2','PAY_3','PAY_4','PAY_5','PAY_6']].astype('category')\n",
    "        \n",
    "        categoric_dummies=pd.get_dummies(df[['SEX','MARRIAGE','EDUCATION','PAY_0','PAY_2','PAY_3','PAY_4','PAY_5','PAY_6']],drop_first=True)\n",
    "        df=pd.concat([categoric_dummies,df],axis=1)\n",
    "        df.drop(['SEX','MARRIAGE','EDUCATION','PAY_0','PAY_2','PAY_3','PAY_4','PAY_5','PAY_6'],axis=1,inplace=True)\n",
    "        \n",
    "        df_train=df[df['role']=='train']\n",
    "        df_test=df[df['role']=='test']\n",
    "        \n",
    "        df_train.drop(['role'],axis=1,inplace=True)\n",
    "        df_test.drop(['role'],axis=1,inplace=True)\n",
    "        \n",
    "    return df_train,df_test\n"
   ]
  },
  {
   "cell_type": "markdown",
   "metadata": {},
   "source": [
    "### REPLACING THE CATEGORY WITH ITS COUNT"
   ]
  },
  {
   "cell_type": "code",
   "execution_count": 28,
   "metadata": {},
   "outputs": [],
   "source": [
    "df_train_count=df_train_d.copy()\n",
    "df_test_count=df_test_d.copy()"
   ]
  },
  {
   "cell_type": "code",
   "execution_count": 29,
   "metadata": {},
   "outputs": [],
   "source": [
    "df_train_count,df_test_count=handle_categoric_column(method='count',df_train=df_train_count,df_test=df_test_count)"
   ]
  },
  {
   "cell_type": "code",
   "execution_count": 30,
   "metadata": {},
   "outputs": [],
   "source": [
    "results=fit_rf_model(df_train=df_train_count,df_test=df_test_count,results=results,categoric_method='Count')"
   ]
  },
  {
   "cell_type": "code",
   "execution_count": 31,
   "metadata": {},
   "outputs": [
    {
     "data": {
      "text/html": [
       "<div>\n",
       "<style scoped>\n",
       "    .dataframe tbody tr th:only-of-type {\n",
       "        vertical-align: middle;\n",
       "    }\n",
       "\n",
       "    .dataframe tbody tr th {\n",
       "        vertical-align: top;\n",
       "    }\n",
       "\n",
       "    .dataframe thead th {\n",
       "        text-align: right;\n",
       "    }\n",
       "</style>\n",
       "<table border=\"1\" class=\"dataframe\">\n",
       "  <thead>\n",
       "    <tr style=\"text-align: right;\">\n",
       "      <th></th>\n",
       "      <th>categoric_method</th>\n",
       "      <th>train_score</th>\n",
       "      <th>test_score</th>\n",
       "      <th>difference</th>\n",
       "    </tr>\n",
       "  </thead>\n",
       "  <tbody>\n",
       "    <tr>\n",
       "      <th>0</th>\n",
       "      <td>None</td>\n",
       "      <td>0.798849</td>\n",
       "      <td>0.786854</td>\n",
       "      <td>0.011995</td>\n",
       "    </tr>\n",
       "    <tr>\n",
       "      <th>1</th>\n",
       "      <td>Count</td>\n",
       "      <td>0.797779</td>\n",
       "      <td>0.782674</td>\n",
       "      <td>0.015104</td>\n",
       "    </tr>\n",
       "  </tbody>\n",
       "</table>\n",
       "</div>"
      ],
      "text/plain": [
       "  categoric_method  train_score  test_score  difference\n",
       "0             None     0.798849    0.786854    0.011995\n",
       "1            Count     0.797779    0.782674    0.015104"
      ]
     },
     "execution_count": 31,
     "metadata": {},
     "output_type": "execute_result"
    }
   ],
   "source": [
    "results"
   ]
  },
  {
   "cell_type": "markdown",
   "metadata": {},
   "source": [
    "### TARGET MEAN ENCODING"
   ]
  },
  {
   "cell_type": "code",
   "execution_count": 32,
   "metadata": {},
   "outputs": [],
   "source": [
    "df_train_TEM=df_train_d.copy()\n",
    "df_test_TEM=df_test_d.copy()"
   ]
  },
  {
   "cell_type": "code",
   "execution_count": 33,
   "metadata": {},
   "outputs": [],
   "source": [
    "df_train_TEM,df_test_TEM=handle_categoric_column(method='target_mean_encoding',df_train=df_train_TEM,df_test=df_test_TEM)"
   ]
  },
  {
   "cell_type": "code",
   "execution_count": 34,
   "metadata": {},
   "outputs": [],
   "source": [
    "results=fit_rf_model(df_train=df_train_TEM,df_test=df_test_TEM,results=results,categoric_method='target_mean_encoding')"
   ]
  },
  {
   "cell_type": "code",
   "execution_count": 35,
   "metadata": {},
   "outputs": [
    {
     "data": {
      "text/html": [
       "<div>\n",
       "<style scoped>\n",
       "    .dataframe tbody tr th:only-of-type {\n",
       "        vertical-align: middle;\n",
       "    }\n",
       "\n",
       "    .dataframe tbody tr th {\n",
       "        vertical-align: top;\n",
       "    }\n",
       "\n",
       "    .dataframe thead th {\n",
       "        text-align: right;\n",
       "    }\n",
       "</style>\n",
       "<table border=\"1\" class=\"dataframe\">\n",
       "  <thead>\n",
       "    <tr style=\"text-align: right;\">\n",
       "      <th></th>\n",
       "      <th>categoric_method</th>\n",
       "      <th>train_score</th>\n",
       "      <th>test_score</th>\n",
       "      <th>difference</th>\n",
       "    </tr>\n",
       "  </thead>\n",
       "  <tbody>\n",
       "    <tr>\n",
       "      <th>0</th>\n",
       "      <td>None</td>\n",
       "      <td>0.798849</td>\n",
       "      <td>0.786854</td>\n",
       "      <td>0.011995</td>\n",
       "    </tr>\n",
       "    <tr>\n",
       "      <th>1</th>\n",
       "      <td>Count</td>\n",
       "      <td>0.797779</td>\n",
       "      <td>0.782674</td>\n",
       "      <td>0.015104</td>\n",
       "    </tr>\n",
       "    <tr>\n",
       "      <th>2</th>\n",
       "      <td>target_mean_encoding</td>\n",
       "      <td>0.797412</td>\n",
       "      <td>0.786448</td>\n",
       "      <td>0.010965</td>\n",
       "    </tr>\n",
       "  </tbody>\n",
       "</table>\n",
       "</div>"
      ],
      "text/plain": [
       "       categoric_method  train_score  test_score  difference\n",
       "0                  None     0.798849    0.786854    0.011995\n",
       "1                 Count     0.797779    0.782674    0.015104\n",
       "2  target_mean_encoding     0.797412    0.786448    0.010965"
      ]
     },
     "execution_count": 35,
     "metadata": {},
     "output_type": "execute_result"
    }
   ],
   "source": [
    "results"
   ]
  },
  {
   "cell_type": "markdown",
   "metadata": {},
   "source": [
    "### ONE HOT ENCODING"
   ]
  },
  {
   "cell_type": "code",
   "execution_count": 36,
   "metadata": {},
   "outputs": [],
   "source": [
    "df_train_OHE=df_train_d.copy()\n",
    "df_test_OHE=df_test_d.copy()\n"
   ]
  },
  {
   "cell_type": "code",
   "execution_count": 37,
   "metadata": {},
   "outputs": [
    {
     "name": "stderr",
     "output_type": "stream",
     "text": [
      "C:\\Users\\hp\\anaconda3\\lib\\site-packages\\pandas\\core\\frame.py:3990: SettingWithCopyWarning: \n",
      "A value is trying to be set on a copy of a slice from a DataFrame\n",
      "\n",
      "See the caveats in the documentation: https://pandas.pydata.org/pandas-docs/stable/user_guide/indexing.html#returning-a-view-versus-a-copy\n",
      "  return super().drop(\n"
     ]
    }
   ],
   "source": [
    "df_train_OHE,df_test_OHE=handle_categoric_column(method='one_hot_encoding',df_train=df_train_OHE,df_test=df_test_OHE)"
   ]
  },
  {
   "cell_type": "code",
   "execution_count": null,
   "metadata": {},
   "outputs": [],
   "source": []
  },
  {
   "cell_type": "code",
   "execution_count": 38,
   "metadata": {},
   "outputs": [],
   "source": [
    "results=fit_rf_model(df_train=df_train_OHE,df_test=df_test_OHE,results=results,categoric_method='one_hot_encoding')"
   ]
  },
  {
   "cell_type": "code",
   "execution_count": 39,
   "metadata": {},
   "outputs": [
    {
     "data": {
      "text/html": [
       "<div>\n",
       "<style scoped>\n",
       "    .dataframe tbody tr th:only-of-type {\n",
       "        vertical-align: middle;\n",
       "    }\n",
       "\n",
       "    .dataframe tbody tr th {\n",
       "        vertical-align: top;\n",
       "    }\n",
       "\n",
       "    .dataframe thead th {\n",
       "        text-align: right;\n",
       "    }\n",
       "</style>\n",
       "<table border=\"1\" class=\"dataframe\">\n",
       "  <thead>\n",
       "    <tr style=\"text-align: right;\">\n",
       "      <th></th>\n",
       "      <th>categoric_method</th>\n",
       "      <th>train_score</th>\n",
       "      <th>test_score</th>\n",
       "      <th>difference</th>\n",
       "    </tr>\n",
       "  </thead>\n",
       "  <tbody>\n",
       "    <tr>\n",
       "      <th>0</th>\n",
       "      <td>None</td>\n",
       "      <td>0.798849</td>\n",
       "      <td>0.786854</td>\n",
       "      <td>0.011995</td>\n",
       "    </tr>\n",
       "    <tr>\n",
       "      <th>1</th>\n",
       "      <td>Count</td>\n",
       "      <td>0.797779</td>\n",
       "      <td>0.782674</td>\n",
       "      <td>0.015104</td>\n",
       "    </tr>\n",
       "    <tr>\n",
       "      <th>2</th>\n",
       "      <td>target_mean_encoding</td>\n",
       "      <td>0.797412</td>\n",
       "      <td>0.786448</td>\n",
       "      <td>0.010965</td>\n",
       "    </tr>\n",
       "    <tr>\n",
       "      <th>3</th>\n",
       "      <td>one_hot_encoding</td>\n",
       "      <td>0.787904</td>\n",
       "      <td>0.783069</td>\n",
       "      <td>0.004835</td>\n",
       "    </tr>\n",
       "  </tbody>\n",
       "</table>\n",
       "</div>"
      ],
      "text/plain": [
       "       categoric_method  train_score  test_score  difference\n",
       "0                  None     0.798849    0.786854    0.011995\n",
       "1                 Count     0.797779    0.782674    0.015104\n",
       "2  target_mean_encoding     0.797412    0.786448    0.010965\n",
       "3      one_hot_encoding     0.787904    0.783069    0.004835"
      ]
     },
     "execution_count": 39,
     "metadata": {},
     "output_type": "execute_result"
    }
   ],
   "source": [
    "results"
   ]
  },
  {
   "cell_type": "markdown",
   "metadata": {},
   "source": [
    "### XG-BOOST RESULTS"
   ]
  },
  {
   "cell_type": "code",
   "execution_count": 40,
   "metadata": {},
   "outputs": [],
   "source": [
    "results_xg=pd.DataFrame(columns=['categoric_method','train_score','test_score','difference'])"
   ]
  },
  {
   "cell_type": "code",
   "execution_count": 41,
   "metadata": {},
   "outputs": [],
   "source": [
    "import xgboost as xgb"
   ]
  },
  {
   "cell_type": "code",
   "execution_count": 42,
   "metadata": {},
   "outputs": [],
   "source": [
    "def fit_xg_model(df_train,df_test,results,categoric_method):\n",
    "    \n",
    "    \n",
    "    X_train=df_train.drop(['default.payment.next.month'],axis=1)\n",
    "    X_test=df_test.drop(['default.payment.next.month'],axis=1)\n",
    "    \n",
    "    y_train=df_train['default.payment.next.month']\n",
    "    y_test=df_test['default.payment.next.month']\n",
    "    \n",
    "    xg=xgb.XGBClassifier(max_depth=2,gamma=10,colsample_bytree=0.4)\n",
    "    \n",
    "    xg=xg.fit(X_train,y_train)\n",
    "    \n",
    "    y_train_prob=xg.predict_proba(X_train)[:,1]\n",
    "    y_test_prob=xg.predict_proba(X_test)[:,1]\n",
    "    \n",
    "    train_score=roc_auc_score(y_train,y_train_prob)\n",
    "    test_score=roc_auc_score(y_test,y_test_prob)\n",
    "    \n",
    "    results=results.append({'categoric_method':categoric_method,'train_score':train_score,'test_score':test_score,'difference':train_score-test_score},ignore_index=True)\n",
    "     \n",
    "    return results"
   ]
  },
  {
   "cell_type": "code",
   "execution_count": null,
   "metadata": {},
   "outputs": [],
   "source": []
  },
  {
   "cell_type": "markdown",
   "metadata": {},
   "source": [
    "### XG_CATEGORY WITH ITS COUNT"
   ]
  },
  {
   "cell_type": "code",
   "execution_count": 43,
   "metadata": {},
   "outputs": [
    {
     "name": "stderr",
     "output_type": "stream",
     "text": [
      "C:\\Users\\hp\\anaconda3\\lib\\site-packages\\xgboost\\sklearn.py:888: UserWarning: The use of label encoder in XGBClassifier is deprecated and will be removed in a future release. To remove this warning, do the following: 1) Pass option use_label_encoder=False when constructing XGBClassifier object; and 2) Encode your labels (y) as integers starting with 0, i.e. 0, 1, 2, ..., [num_class - 1].\n",
      "  warnings.warn(label_encoder_deprecation_msg, UserWarning)\n"
     ]
    },
    {
     "name": "stdout",
     "output_type": "stream",
     "text": [
      "[22:39:07] WARNING: C:/Users/Administrator/workspace/xgboost-win64_release_1.3.0/src/learner.cc:1061: Starting in XGBoost 1.3.0, the default evaluation metric used with the objective 'binary:logistic' was changed from 'error' to 'logloss'. Explicitly set eval_metric if you'd like to restore the old behavior.\n"
     ]
    }
   ],
   "source": [
    "results_xg=fit_xg_model(df_train=df_train_count,df_test=df_test_count,results=results_xg,categoric_method='Count')"
   ]
  },
  {
   "cell_type": "code",
   "execution_count": 44,
   "metadata": {},
   "outputs": [
    {
     "data": {
      "text/html": [
       "<div>\n",
       "<style scoped>\n",
       "    .dataframe tbody tr th:only-of-type {\n",
       "        vertical-align: middle;\n",
       "    }\n",
       "\n",
       "    .dataframe tbody tr th {\n",
       "        vertical-align: top;\n",
       "    }\n",
       "\n",
       "    .dataframe thead th {\n",
       "        text-align: right;\n",
       "    }\n",
       "</style>\n",
       "<table border=\"1\" class=\"dataframe\">\n",
       "  <thead>\n",
       "    <tr style=\"text-align: right;\">\n",
       "      <th></th>\n",
       "      <th>categoric_method</th>\n",
       "      <th>train_score</th>\n",
       "      <th>test_score</th>\n",
       "      <th>difference</th>\n",
       "    </tr>\n",
       "  </thead>\n",
       "  <tbody>\n",
       "    <tr>\n",
       "      <th>0</th>\n",
       "      <td>Count</td>\n",
       "      <td>0.809358</td>\n",
       "      <td>0.780666</td>\n",
       "      <td>0.028692</td>\n",
       "    </tr>\n",
       "  </tbody>\n",
       "</table>\n",
       "</div>"
      ],
      "text/plain": [
       "  categoric_method  train_score  test_score  difference\n",
       "0            Count     0.809358    0.780666    0.028692"
      ]
     },
     "execution_count": 44,
     "metadata": {},
     "output_type": "execute_result"
    }
   ],
   "source": [
    "results_xg"
   ]
  },
  {
   "cell_type": "code",
   "execution_count": 45,
   "metadata": {},
   "outputs": [
    {
     "name": "stderr",
     "output_type": "stream",
     "text": [
      "C:\\Users\\hp\\anaconda3\\lib\\site-packages\\xgboost\\sklearn.py:888: UserWarning: The use of label encoder in XGBClassifier is deprecated and will be removed in a future release. To remove this warning, do the following: 1) Pass option use_label_encoder=False when constructing XGBClassifier object; and 2) Encode your labels (y) as integers starting with 0, i.e. 0, 1, 2, ..., [num_class - 1].\n",
      "  warnings.warn(label_encoder_deprecation_msg, UserWarning)\n"
     ]
    },
    {
     "name": "stdout",
     "output_type": "stream",
     "text": [
      "[22:39:08] WARNING: C:/Users/Administrator/workspace/xgboost-win64_release_1.3.0/src/learner.cc:1061: Starting in XGBoost 1.3.0, the default evaluation metric used with the objective 'binary:logistic' was changed from 'error' to 'logloss'. Explicitly set eval_metric if you'd like to restore the old behavior.\n"
     ]
    }
   ],
   "source": [
    "results_xg=fit_xg_model(df_train=df_train_TEM,df_test=df_test_TEM,results=results_xg,categoric_method='target_mean_encoding')"
   ]
  },
  {
   "cell_type": "code",
   "execution_count": 46,
   "metadata": {},
   "outputs": [
    {
     "data": {
      "text/html": [
       "<div>\n",
       "<style scoped>\n",
       "    .dataframe tbody tr th:only-of-type {\n",
       "        vertical-align: middle;\n",
       "    }\n",
       "\n",
       "    .dataframe tbody tr th {\n",
       "        vertical-align: top;\n",
       "    }\n",
       "\n",
       "    .dataframe thead th {\n",
       "        text-align: right;\n",
       "    }\n",
       "</style>\n",
       "<table border=\"1\" class=\"dataframe\">\n",
       "  <thead>\n",
       "    <tr style=\"text-align: right;\">\n",
       "      <th></th>\n",
       "      <th>categoric_method</th>\n",
       "      <th>train_score</th>\n",
       "      <th>test_score</th>\n",
       "      <th>difference</th>\n",
       "    </tr>\n",
       "  </thead>\n",
       "  <tbody>\n",
       "    <tr>\n",
       "      <th>0</th>\n",
       "      <td>Count</td>\n",
       "      <td>0.809358</td>\n",
       "      <td>0.780666</td>\n",
       "      <td>0.028692</td>\n",
       "    </tr>\n",
       "    <tr>\n",
       "      <th>1</th>\n",
       "      <td>target_mean_encoding</td>\n",
       "      <td>0.804496</td>\n",
       "      <td>0.784769</td>\n",
       "      <td>0.019727</td>\n",
       "    </tr>\n",
       "  </tbody>\n",
       "</table>\n",
       "</div>"
      ],
      "text/plain": [
       "       categoric_method  train_score  test_score  difference\n",
       "0                 Count     0.809358    0.780666    0.028692\n",
       "1  target_mean_encoding     0.804496    0.784769    0.019727"
      ]
     },
     "execution_count": 46,
     "metadata": {},
     "output_type": "execute_result"
    }
   ],
   "source": [
    "results_xg"
   ]
  },
  {
   "cell_type": "code",
   "execution_count": 47,
   "metadata": {},
   "outputs": [
    {
     "name": "stderr",
     "output_type": "stream",
     "text": [
      "C:\\Users\\hp\\anaconda3\\lib\\site-packages\\xgboost\\sklearn.py:888: UserWarning: The use of label encoder in XGBClassifier is deprecated and will be removed in a future release. To remove this warning, do the following: 1) Pass option use_label_encoder=False when constructing XGBClassifier object; and 2) Encode your labels (y) as integers starting with 0, i.e. 0, 1, 2, ..., [num_class - 1].\n",
      "  warnings.warn(label_encoder_deprecation_msg, UserWarning)\n"
     ]
    },
    {
     "name": "stdout",
     "output_type": "stream",
     "text": [
      "[22:39:09] WARNING: C:/Users/Administrator/workspace/xgboost-win64_release_1.3.0/src/learner.cc:1061: Starting in XGBoost 1.3.0, the default evaluation metric used with the objective 'binary:logistic' was changed from 'error' to 'logloss'. Explicitly set eval_metric if you'd like to restore the old behavior.\n"
     ]
    }
   ],
   "source": [
    "results_xg=fit_xg_model(df_train=df_train_OHE,df_test=df_test_OHE,results=results_xg,categoric_method='one_hot_encoding')"
   ]
  },
  {
   "cell_type": "code",
   "execution_count": 48,
   "metadata": {},
   "outputs": [
    {
     "data": {
      "text/html": [
       "<div>\n",
       "<style scoped>\n",
       "    .dataframe tbody tr th:only-of-type {\n",
       "        vertical-align: middle;\n",
       "    }\n",
       "\n",
       "    .dataframe tbody tr th {\n",
       "        vertical-align: top;\n",
       "    }\n",
       "\n",
       "    .dataframe thead th {\n",
       "        text-align: right;\n",
       "    }\n",
       "</style>\n",
       "<table border=\"1\" class=\"dataframe\">\n",
       "  <thead>\n",
       "    <tr style=\"text-align: right;\">\n",
       "      <th></th>\n",
       "      <th>categoric_method</th>\n",
       "      <th>train_score</th>\n",
       "      <th>test_score</th>\n",
       "      <th>difference</th>\n",
       "    </tr>\n",
       "  </thead>\n",
       "  <tbody>\n",
       "    <tr>\n",
       "      <th>0</th>\n",
       "      <td>Count</td>\n",
       "      <td>0.809358</td>\n",
       "      <td>0.780666</td>\n",
       "      <td>0.028692</td>\n",
       "    </tr>\n",
       "    <tr>\n",
       "      <th>1</th>\n",
       "      <td>target_mean_encoding</td>\n",
       "      <td>0.804496</td>\n",
       "      <td>0.784769</td>\n",
       "      <td>0.019727</td>\n",
       "    </tr>\n",
       "    <tr>\n",
       "      <th>2</th>\n",
       "      <td>one_hot_encoding</td>\n",
       "      <td>0.805175</td>\n",
       "      <td>0.782574</td>\n",
       "      <td>0.022601</td>\n",
       "    </tr>\n",
       "  </tbody>\n",
       "</table>\n",
       "</div>"
      ],
      "text/plain": [
       "       categoric_method  train_score  test_score  difference\n",
       "0                 Count     0.809358    0.780666    0.028692\n",
       "1  target_mean_encoding     0.804496    0.784769    0.019727\n",
       "2      one_hot_encoding     0.805175    0.782574    0.022601"
      ]
     },
     "execution_count": 48,
     "metadata": {},
     "output_type": "execute_result"
    }
   ],
   "source": [
    "results_xg"
   ]
  },
  {
   "cell_type": "code",
   "execution_count": 49,
   "metadata": {},
   "outputs": [
    {
     "data": {
      "text/html": [
       "<div>\n",
       "<style scoped>\n",
       "    .dataframe tbody tr th:only-of-type {\n",
       "        vertical-align: middle;\n",
       "    }\n",
       "\n",
       "    .dataframe tbody tr th {\n",
       "        vertical-align: top;\n",
       "    }\n",
       "\n",
       "    .dataframe thead th {\n",
       "        text-align: right;\n",
       "    }\n",
       "</style>\n",
       "<table border=\"1\" class=\"dataframe\">\n",
       "  <thead>\n",
       "    <tr style=\"text-align: right;\">\n",
       "      <th></th>\n",
       "      <th>categoric_method</th>\n",
       "      <th>train_score</th>\n",
       "      <th>test_score</th>\n",
       "      <th>difference</th>\n",
       "    </tr>\n",
       "  </thead>\n",
       "  <tbody>\n",
       "    <tr>\n",
       "      <th>0</th>\n",
       "      <td>None</td>\n",
       "      <td>0.798849</td>\n",
       "      <td>0.786854</td>\n",
       "      <td>0.011995</td>\n",
       "    </tr>\n",
       "    <tr>\n",
       "      <th>1</th>\n",
       "      <td>Count</td>\n",
       "      <td>0.797779</td>\n",
       "      <td>0.782674</td>\n",
       "      <td>0.015104</td>\n",
       "    </tr>\n",
       "    <tr>\n",
       "      <th>2</th>\n",
       "      <td>target_mean_encoding</td>\n",
       "      <td>0.797412</td>\n",
       "      <td>0.786448</td>\n",
       "      <td>0.010965</td>\n",
       "    </tr>\n",
       "    <tr>\n",
       "      <th>3</th>\n",
       "      <td>one_hot_encoding</td>\n",
       "      <td>0.787904</td>\n",
       "      <td>0.783069</td>\n",
       "      <td>0.004835</td>\n",
       "    </tr>\n",
       "  </tbody>\n",
       "</table>\n",
       "</div>"
      ],
      "text/plain": [
       "       categoric_method  train_score  test_score  difference\n",
       "0                  None     0.798849    0.786854    0.011995\n",
       "1                 Count     0.797779    0.782674    0.015104\n",
       "2  target_mean_encoding     0.797412    0.786448    0.010965\n",
       "3      one_hot_encoding     0.787904    0.783069    0.004835"
      ]
     },
     "execution_count": 49,
     "metadata": {},
     "output_type": "execute_result"
    }
   ],
   "source": [
    "results"
   ]
  },
  {
   "cell_type": "code",
   "execution_count": 50,
   "metadata": {},
   "outputs": [],
   "source": [
    "compare_results=results_xg.append([results],ignore_index=True)"
   ]
  },
  {
   "cell_type": "code",
   "execution_count": 51,
   "metadata": {},
   "outputs": [
    {
     "data": {
      "text/html": [
       "<div>\n",
       "<style scoped>\n",
       "    .dataframe tbody tr th:only-of-type {\n",
       "        vertical-align: middle;\n",
       "    }\n",
       "\n",
       "    .dataframe tbody tr th {\n",
       "        vertical-align: top;\n",
       "    }\n",
       "\n",
       "    .dataframe thead th {\n",
       "        text-align: right;\n",
       "    }\n",
       "</style>\n",
       "<table border=\"1\" class=\"dataframe\">\n",
       "  <thead>\n",
       "    <tr style=\"text-align: right;\">\n",
       "      <th></th>\n",
       "      <th>categoric_method</th>\n",
       "      <th>train_score</th>\n",
       "      <th>test_score</th>\n",
       "      <th>difference</th>\n",
       "    </tr>\n",
       "  </thead>\n",
       "  <tbody>\n",
       "    <tr>\n",
       "      <th>6</th>\n",
       "      <td>one_hot_encoding</td>\n",
       "      <td>0.787904</td>\n",
       "      <td>0.783069</td>\n",
       "      <td>0.004835</td>\n",
       "    </tr>\n",
       "    <tr>\n",
       "      <th>5</th>\n",
       "      <td>target_mean_encoding</td>\n",
       "      <td>0.797412</td>\n",
       "      <td>0.786448</td>\n",
       "      <td>0.010965</td>\n",
       "    </tr>\n",
       "    <tr>\n",
       "      <th>3</th>\n",
       "      <td>None</td>\n",
       "      <td>0.798849</td>\n",
       "      <td>0.786854</td>\n",
       "      <td>0.011995</td>\n",
       "    </tr>\n",
       "    <tr>\n",
       "      <th>4</th>\n",
       "      <td>Count</td>\n",
       "      <td>0.797779</td>\n",
       "      <td>0.782674</td>\n",
       "      <td>0.015104</td>\n",
       "    </tr>\n",
       "    <tr>\n",
       "      <th>1</th>\n",
       "      <td>target_mean_encoding</td>\n",
       "      <td>0.804496</td>\n",
       "      <td>0.784769</td>\n",
       "      <td>0.019727</td>\n",
       "    </tr>\n",
       "    <tr>\n",
       "      <th>2</th>\n",
       "      <td>one_hot_encoding</td>\n",
       "      <td>0.805175</td>\n",
       "      <td>0.782574</td>\n",
       "      <td>0.022601</td>\n",
       "    </tr>\n",
       "    <tr>\n",
       "      <th>0</th>\n",
       "      <td>Count</td>\n",
       "      <td>0.809358</td>\n",
       "      <td>0.780666</td>\n",
       "      <td>0.028692</td>\n",
       "    </tr>\n",
       "  </tbody>\n",
       "</table>\n",
       "</div>"
      ],
      "text/plain": [
       "       categoric_method  train_score  test_score  difference\n",
       "6      one_hot_encoding     0.787904    0.783069    0.004835\n",
       "5  target_mean_encoding     0.797412    0.786448    0.010965\n",
       "3                  None     0.798849    0.786854    0.011995\n",
       "4                 Count     0.797779    0.782674    0.015104\n",
       "1  target_mean_encoding     0.804496    0.784769    0.019727\n",
       "2      one_hot_encoding     0.805175    0.782574    0.022601\n",
       "0                 Count     0.809358    0.780666    0.028692"
      ]
     },
     "execution_count": 51,
     "metadata": {},
     "output_type": "execute_result"
    }
   ],
   "source": [
    "compare_results.sort_values(by=['difference'])"
   ]
  },
  {
   "cell_type": "markdown",
   "metadata": {},
   "source": [
    "- Best Results are given by One hot encoding\n",
    "- Second-best and first best have a marginal difference and target mean encoding reduces the dimentionality of the data \n",
    "- Hence we consider target mean encoding"
   ]
  },
  {
   "cell_type": "markdown",
   "metadata": {},
   "source": [
    "### Train And Test Sets"
   ]
  },
  {
   "cell_type": "code",
   "execution_count": 52,
   "metadata": {},
   "outputs": [],
   "source": [
    "df_unscaled_train=df_train_TEM.copy()\n",
    "df_unscaled_test=df_test_TEM.copy()"
   ]
  },
  {
   "cell_type": "code",
   "execution_count": 53,
   "metadata": {},
   "outputs": [],
   "source": [
    "X_train=df_unscaled_train.drop('default.payment.next.month',axis=1)\n",
    "y_train=df_unscaled_train['default.payment.next.month']"
   ]
  },
  {
   "cell_type": "code",
   "execution_count": 54,
   "metadata": {},
   "outputs": [],
   "source": [
    "X_test=df_unscaled_test.drop('default.payment.next.month',axis=1)\n",
    "y_test=df_unscaled_test['default.payment.next.month']"
   ]
  },
  {
   "cell_type": "code",
   "execution_count": 55,
   "metadata": {},
   "outputs": [],
   "source": [
    "scaler=MinMaxScaler()"
   ]
  },
  {
   "cell_type": "code",
   "execution_count": 56,
   "metadata": {},
   "outputs": [],
   "source": [
    "X_train=pd.DataFrame(data=scaler.fit_transform(X_train),columns=X_train.columns,index=X_train.index)"
   ]
  },
  {
   "cell_type": "code",
   "execution_count": 57,
   "metadata": {},
   "outputs": [],
   "source": [
    "X_test=pd.DataFrame(data=scaler.transform(X_test),columns=X_test.columns,index=X_test.index)"
   ]
  },
  {
   "cell_type": "code",
   "execution_count": 58,
   "metadata": {},
   "outputs": [],
   "source": [
    "df_train_scaled=pd.concat([X_train,y_train],axis=1)"
   ]
  },
  {
   "cell_type": "code",
   "execution_count": 59,
   "metadata": {},
   "outputs": [],
   "source": [
    "df_test_scaled=pd.concat([X_test,y_test],axis=1)"
   ]
  },
  {
   "cell_type": "code",
   "execution_count": null,
   "metadata": {},
   "outputs": [],
   "source": []
  },
  {
   "cell_type": "markdown",
   "metadata": {},
   "source": [
    "### SAVING THE PREPROCESSED DATA"
   ]
  },
  {
   "cell_type": "code",
   "execution_count": null,
   "metadata": {},
   "outputs": [],
   "source": [
    "df_unscaled_train.to_csv('train.csv')"
   ]
  },
  {
   "cell_type": "code",
   "execution_count": null,
   "metadata": {},
   "outputs": [],
   "source": [
    "df_unscaled_test.to_csv('test.csv')"
   ]
  },
  {
   "cell_type": "code",
   "execution_count": null,
   "metadata": {},
   "outputs": [],
   "source": [
    "df_train_scaled.to_csv('train_scaled.csv')"
   ]
  },
  {
   "cell_type": "code",
   "execution_count": null,
   "metadata": {},
   "outputs": [],
   "source": [
    "df_test_scaled.to_csv('test_scaled.csv')"
   ]
  },
  {
   "cell_type": "code",
   "execution_count": null,
   "metadata": {},
   "outputs": [],
   "source": []
  }
 ],
 "metadata": {
  "kernelspec": {
   "display_name": "Python 3",
   "language": "python",
   "name": "python3"
  },
  "language_info": {
   "codemirror_mode": {
    "name": "ipython",
    "version": 3
   },
   "file_extension": ".py",
   "mimetype": "text/x-python",
   "name": "python",
   "nbconvert_exporter": "python",
   "pygments_lexer": "ipython3",
   "version": "3.8.3"
  }
 },
 "nbformat": 4,
 "nbformat_minor": 4
}
